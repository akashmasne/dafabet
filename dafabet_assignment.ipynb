{
 "cells": [
  {
   "cell_type": "code",
   "execution_count": 73,
   "id": "0164e2dc",
   "metadata": {},
   "outputs": [],
   "source": [
    "import requests\n",
    "import pandas as pd\n",
    "import concurrent\n",
    "from time import time\n",
    "import sqlite3\n",
    "from sqlalchemy import create_engine\n",
    "import json\n",
    "import ast\n",
    "import pandasql as ps\n",
    "from fuzzywuzzy import fuzz"
   ]
  },
  {
   "cell_type": "code",
   "execution_count": 74,
   "id": "ca19c5b0",
   "metadata": {},
   "outputs": [],
   "source": [
    "url=\"https://random-data-api.com/api/users/random_user?size=100\" #sine API support max 100 records in each request\n",
    "userdata=[]\n",
    "userfile=r\"C:\\Users\\akash.masney\\Downloads\\technicalexamsr_etldevakashshrikantmasney\\userdata.csv\"  "
   ]
  },
  {
   "cell_type": "markdown",
   "id": "9a15c789",
   "metadata": {},
   "source": [
    "# To get data in parallel from API "
   ]
  },
  {
   "cell_type": "code",
   "execution_count": 75,
   "id": "b981721c",
   "metadata": {},
   "outputs": [
    {
     "name": "stdout",
     "output_type": "stream",
     "text": [
      "timer taken: 4.1646552085876465\n"
     ]
    }
   ],
   "source": [
    "def GetUserData(url):\n",
    "    return requests.get(url).json()\n",
    "\n",
    "starttime=time()\n",
    "\n",
    "with concurrent.futures.ThreadPoolExecutor() as executor: # optimally defined number of threads\n",
    "    res = [executor.submit(GetUserData, url) for _ in range(10)]\n",
    "    concurrent.futures.wait(res) \n",
    "    \n",
    "userdata=[]\n",
    "for i in range(len(res)):\n",
    "    userdata.extend(res[i].result())\n",
    "    \n",
    "df_user=pd.DataFrame(userdata)\n",
    "df_user.to_csv(userfile,index=False)\n",
    "\n",
    "print(\"timer taken:\",time()-starttime)"
   ]
  },
  {
   "cell_type": "code",
   "execution_count": 76,
   "id": "48be86c3",
   "metadata": {},
   "outputs": [],
   "source": [
    "userdf=pd.read_csv(userfile)"
   ]
  },
  {
   "cell_type": "code",
   "execution_count": 77,
   "id": "8ba63ed4",
   "metadata": {},
   "outputs": [
    {
     "name": "stdout",
     "output_type": "stream",
     "text": [
      "index: 2\n",
      "index: 3\n"
     ]
    }
   ],
   "source": [
    "chunk_size=500\n",
    "batch_no=1\n",
    "\n",
    "csv_database = create_engine(r'sqlite:///C:\\Users\\akash.masney\\Downloads\\technicalexamsr_etldevakashshrikantmasney\\csv_database.db')\n",
    "\n",
    "for chunk in pd.read_csv(userfile,chunksize=chunk_size,iterator=True):\n",
    "    chunk.to_sql('usertable',csv_database, if_exists='append')\n",
    "    batch_no+=1\n",
    "    print('index: {}'.format(batch_no))"
   ]
  },
  {
   "cell_type": "code",
   "execution_count": 78,
   "id": "c70dfbca",
   "metadata": {},
   "outputs": [
    {
     "data": {
      "text/html": [
       "<div>\n",
       "<style scoped>\n",
       "    .dataframe tbody tr th:only-of-type {\n",
       "        vertical-align: middle;\n",
       "    }\n",
       "\n",
       "    .dataframe tbody tr th {\n",
       "        vertical-align: top;\n",
       "    }\n",
       "\n",
       "    .dataframe thead th {\n",
       "        text-align: right;\n",
       "    }\n",
       "</style>\n",
       "<table border=\"1\" class=\"dataframe\">\n",
       "  <thead>\n",
       "    <tr style=\"text-align: right;\">\n",
       "      <th></th>\n",
       "      <th>count(1)</th>\n",
       "    </tr>\n",
       "  </thead>\n",
       "  <tbody>\n",
       "    <tr>\n",
       "      <th>0</th>\n",
       "      <td>3000</td>\n",
       "    </tr>\n",
       "  </tbody>\n",
       "</table>\n",
       "</div>"
      ],
      "text/plain": [
       "   count(1)\n",
       "0      3000"
      ]
     },
     "execution_count": 78,
     "metadata": {},
     "output_type": "execute_result"
    }
   ],
   "source": [
    "pd.read_sql_query(\"select count(1) from usertable\",csv_database)"
   ]
  },
  {
   "cell_type": "markdown",
   "id": "da073556",
   "metadata": {},
   "source": [
    "# flatten the records in df first"
   ]
  },
  {
   "cell_type": "code",
   "execution_count": 79,
   "id": "7e23e512",
   "metadata": {},
   "outputs": [],
   "source": [
    "def flatten_column(df,col):\n",
    "    try:\n",
    "        df[col]=df[col].apply(lambda d : ast.literal_eval(d))\n",
    "        for newcol in df[col][0].keys():\n",
    "            df[newcol]=df[col].apply(lambda d : d[newcol])\n",
    "        df.drop(col,inplace=True,axis=1)\n",
    "        #return df\n",
    "    except Exception as e:\n",
    "        print(\"Error in function flatten_column : \",str(e))"
   ]
  },
  {
   "cell_type": "code",
   "execution_count": 80,
   "id": "42ac2ff4",
   "metadata": {},
   "outputs": [],
   "source": [
    "flatten_column(userdf,'subscription')\n",
    "flatten_column(userdf,'employment')"
   ]
  },
  {
   "cell_type": "code",
   "execution_count": 81,
   "id": "bc6192c6",
   "metadata": {},
   "outputs": [],
   "source": [
    "def getaddressfields(df,col):\n",
    "    try:\n",
    "        df[col]=df[col].apply(lambda d : ast.literal_eval(d))\n",
    "        for newcol in ['city','zip_code','state','country']:\n",
    "            df[newcol]=df[col].apply(lambda d : d[newcol])\n",
    "        df.drop(col,inplace=True,axis=1)\n",
    "        #return df\n",
    "    except Exception as e:\n",
    "        print(\"Error in function getaddressfields : \",str(e))"
   ]
  },
  {
   "cell_type": "code",
   "execution_count": 82,
   "id": "6bf3b480",
   "metadata": {},
   "outputs": [],
   "source": [
    "getaddressfields(userdf,'address')"
   ]
  },
  {
   "cell_type": "code",
   "execution_count": 83,
   "id": "8415236e",
   "metadata": {},
   "outputs": [
    {
     "data": {
      "text/html": [
       "<div>\n",
       "<style scoped>\n",
       "    .dataframe tbody tr th:only-of-type {\n",
       "        vertical-align: middle;\n",
       "    }\n",
       "\n",
       "    .dataframe tbody tr th {\n",
       "        vertical-align: top;\n",
       "    }\n",
       "\n",
       "    .dataframe thead th {\n",
       "        text-align: right;\n",
       "    }\n",
       "</style>\n",
       "<table border=\"1\" class=\"dataframe\">\n",
       "  <thead>\n",
       "    <tr style=\"text-align: right;\">\n",
       "      <th></th>\n",
       "      <th>id</th>\n",
       "      <th>uid</th>\n",
       "      <th>password</th>\n",
       "      <th>first_name</th>\n",
       "      <th>last_name</th>\n",
       "      <th>username</th>\n",
       "      <th>email</th>\n",
       "      <th>avatar</th>\n",
       "      <th>gender</th>\n",
       "      <th>phone_number</th>\n",
       "      <th>...</th>\n",
       "      <th>plan</th>\n",
       "      <th>status</th>\n",
       "      <th>payment_method</th>\n",
       "      <th>term</th>\n",
       "      <th>title</th>\n",
       "      <th>key_skill</th>\n",
       "      <th>city</th>\n",
       "      <th>zip_code</th>\n",
       "      <th>state</th>\n",
       "      <th>country</th>\n",
       "    </tr>\n",
       "  </thead>\n",
       "  <tbody>\n",
       "    <tr>\n",
       "      <th>0</th>\n",
       "      <td>5580</td>\n",
       "      <td>6b4385ea-7c72-4cd8-8d41-1638b0931cea</td>\n",
       "      <td>X0lGnRUoBb</td>\n",
       "      <td>Elijah</td>\n",
       "      <td>Hermann</td>\n",
       "      <td>elijah.hermann</td>\n",
       "      <td>elijah.hermann@email.com</td>\n",
       "      <td>https://robohash.org/quiplaceatillum.png?size=...</td>\n",
       "      <td>Polygender</td>\n",
       "      <td>+41 656.053.7214 x8728</td>\n",
       "      <td>...</td>\n",
       "      <td>Student</td>\n",
       "      <td>Idle</td>\n",
       "      <td>WeChat Pay</td>\n",
       "      <td>Payment in advance</td>\n",
       "      <td>Administration Assistant</td>\n",
       "      <td>Technical savvy</td>\n",
       "      <td>North Hermilamouth</td>\n",
       "      <td>38044-7452</td>\n",
       "      <td>Kentucky</td>\n",
       "      <td>United States</td>\n",
       "    </tr>\n",
       "    <tr>\n",
       "      <th>1</th>\n",
       "      <td>2414</td>\n",
       "      <td>be3df771-e9a5-4b5f-8c0e-cfd19f274a39</td>\n",
       "      <td>NBP6lKuJOC</td>\n",
       "      <td>Hoyt</td>\n",
       "      <td>Casper</td>\n",
       "      <td>hoyt.casper</td>\n",
       "      <td>hoyt.casper@email.com</td>\n",
       "      <td>https://robohash.org/sintomnisut.png?size=300x...</td>\n",
       "      <td>Female</td>\n",
       "      <td>+1-671 263-678-6425 x1611</td>\n",
       "      <td>...</td>\n",
       "      <td>Professional</td>\n",
       "      <td>Idle</td>\n",
       "      <td>Credit card</td>\n",
       "      <td>Payment in advance</td>\n",
       "      <td>National Producer</td>\n",
       "      <td>Self-motivated</td>\n",
       "      <td>New Darius</td>\n",
       "      <td>72801</td>\n",
       "      <td>Colorado</td>\n",
       "      <td>United States</td>\n",
       "    </tr>\n",
       "    <tr>\n",
       "      <th>2</th>\n",
       "      <td>3370</td>\n",
       "      <td>17d3f918-6e28-400e-890a-4e95d34b5587</td>\n",
       "      <td>aM7dfhVort</td>\n",
       "      <td>Alonzo</td>\n",
       "      <td>Lehner</td>\n",
       "      <td>alonzo.lehner</td>\n",
       "      <td>alonzo.lehner@email.com</td>\n",
       "      <td>https://robohash.org/quodpariaturdolores.png?s...</td>\n",
       "      <td>Genderqueer</td>\n",
       "      <td>+967 (832) 364-4457 x87267</td>\n",
       "      <td>...</td>\n",
       "      <td>Business</td>\n",
       "      <td>Active</td>\n",
       "      <td>Google Pay</td>\n",
       "      <td>Annual</td>\n",
       "      <td>Marketing Supervisor</td>\n",
       "      <td>Networking skills</td>\n",
       "      <td>New Stacy</td>\n",
       "      <td>73282</td>\n",
       "      <td>Illinois</td>\n",
       "      <td>United States</td>\n",
       "    </tr>\n",
       "    <tr>\n",
       "      <th>3</th>\n",
       "      <td>97</td>\n",
       "      <td>e3d918f1-77c6-404a-8449-c49806013c76</td>\n",
       "      <td>70rL1mv2Qe</td>\n",
       "      <td>Lucas</td>\n",
       "      <td>Adams</td>\n",
       "      <td>lucas.adams</td>\n",
       "      <td>lucas.adams@email.com</td>\n",
       "      <td>https://robohash.org/namnemoet.png?size=300x30...</td>\n",
       "      <td>Agender</td>\n",
       "      <td>+262 314.428.7343</td>\n",
       "      <td>...</td>\n",
       "      <td>Basic</td>\n",
       "      <td>Blocked</td>\n",
       "      <td>WeChat Pay</td>\n",
       "      <td>Payment in advance</td>\n",
       "      <td>Administration Architect</td>\n",
       "      <td>Confidence</td>\n",
       "      <td>West Erinstad</td>\n",
       "      <td>70194-5224</td>\n",
       "      <td>Connecticut</td>\n",
       "      <td>United States</td>\n",
       "    </tr>\n",
       "    <tr>\n",
       "      <th>4</th>\n",
       "      <td>9049</td>\n",
       "      <td>cd41952f-3366-4c2a-85d1-5fe3a44eab72</td>\n",
       "      <td>UcmCpGqesu</td>\n",
       "      <td>Marlon</td>\n",
       "      <td>Purdy</td>\n",
       "      <td>marlon.purdy</td>\n",
       "      <td>marlon.purdy@email.com</td>\n",
       "      <td>https://robohash.org/etaliquamqui.png?size=300...</td>\n",
       "      <td>Female</td>\n",
       "      <td>+673 1-163-643-7065</td>\n",
       "      <td>...</td>\n",
       "      <td>Platinum</td>\n",
       "      <td>Idle</td>\n",
       "      <td>Alipay</td>\n",
       "      <td>Full subscription</td>\n",
       "      <td>Sales Administrator</td>\n",
       "      <td>Proactive</td>\n",
       "      <td>Kundeland</td>\n",
       "      <td>32976-6832</td>\n",
       "      <td>South Carolina</td>\n",
       "      <td>United States</td>\n",
       "    </tr>\n",
       "  </tbody>\n",
       "</table>\n",
       "<p>5 rows × 23 columns</p>\n",
       "</div>"
      ],
      "text/plain": [
       "     id                                   uid    password first_name  \\\n",
       "0  5580  6b4385ea-7c72-4cd8-8d41-1638b0931cea  X0lGnRUoBb     Elijah   \n",
       "1  2414  be3df771-e9a5-4b5f-8c0e-cfd19f274a39  NBP6lKuJOC       Hoyt   \n",
       "2  3370  17d3f918-6e28-400e-890a-4e95d34b5587  aM7dfhVort     Alonzo   \n",
       "3    97  e3d918f1-77c6-404a-8449-c49806013c76  70rL1mv2Qe      Lucas   \n",
       "4  9049  cd41952f-3366-4c2a-85d1-5fe3a44eab72  UcmCpGqesu     Marlon   \n",
       "\n",
       "  last_name        username                     email  \\\n",
       "0   Hermann  elijah.hermann  elijah.hermann@email.com   \n",
       "1    Casper     hoyt.casper     hoyt.casper@email.com   \n",
       "2    Lehner   alonzo.lehner   alonzo.lehner@email.com   \n",
       "3     Adams     lucas.adams     lucas.adams@email.com   \n",
       "4     Purdy    marlon.purdy    marlon.purdy@email.com   \n",
       "\n",
       "                                              avatar       gender  \\\n",
       "0  https://robohash.org/quiplaceatillum.png?size=...   Polygender   \n",
       "1  https://robohash.org/sintomnisut.png?size=300x...       Female   \n",
       "2  https://robohash.org/quodpariaturdolores.png?s...  Genderqueer   \n",
       "3  https://robohash.org/namnemoet.png?size=300x30...      Agender   \n",
       "4  https://robohash.org/etaliquamqui.png?size=300...       Female   \n",
       "\n",
       "                 phone_number  ...          plan   status payment_method  \\\n",
       "0      +41 656.053.7214 x8728  ...       Student     Idle     WeChat Pay   \n",
       "1   +1-671 263-678-6425 x1611  ...  Professional     Idle    Credit card   \n",
       "2  +967 (832) 364-4457 x87267  ...      Business   Active     Google Pay   \n",
       "3           +262 314.428.7343  ...         Basic  Blocked     WeChat Pay   \n",
       "4         +673 1-163-643-7065  ...      Platinum     Idle         Alipay   \n",
       "\n",
       "                 term                     title          key_skill  \\\n",
       "0  Payment in advance  Administration Assistant    Technical savvy   \n",
       "1  Payment in advance         National Producer     Self-motivated   \n",
       "2              Annual      Marketing Supervisor  Networking skills   \n",
       "3  Payment in advance  Administration Architect         Confidence   \n",
       "4   Full subscription       Sales Administrator          Proactive   \n",
       "\n",
       "                 city    zip_code           state        country  \n",
       "0  North Hermilamouth  38044-7452        Kentucky  United States  \n",
       "1          New Darius       72801        Colorado  United States  \n",
       "2           New Stacy       73282        Illinois  United States  \n",
       "3       West Erinstad  70194-5224     Connecticut  United States  \n",
       "4           Kundeland  32976-6832  South Carolina  United States  \n",
       "\n",
       "[5 rows x 23 columns]"
      ]
     },
     "execution_count": 83,
     "metadata": {},
     "output_type": "execute_result"
    }
   ],
   "source": [
    "userdf.head()"
   ]
  },
  {
   "cell_type": "code",
   "execution_count": 84,
   "id": "6e92cf8e",
   "metadata": {},
   "outputs": [],
   "source": [
    "mysql='''\n",
    "        SELECT\n",
    "          state,\n",
    "          COUNT(id) AS 'user_in_state' \n",
    "        FROM\n",
    "          userdf\n",
    "        GROUP BY \n",
    "          state\n",
    "        ORDER BY \n",
    "          user_in_state DESC limit 10\n",
    "    '''"
   ]
  },
  {
   "cell_type": "code",
   "execution_count": 85,
   "id": "d0304463",
   "metadata": {},
   "outputs": [
    {
     "data": {
      "text/html": [
       "<div>\n",
       "<style scoped>\n",
       "    .dataframe tbody tr th:only-of-type {\n",
       "        vertical-align: middle;\n",
       "    }\n",
       "\n",
       "    .dataframe tbody tr th {\n",
       "        vertical-align: top;\n",
       "    }\n",
       "\n",
       "    .dataframe thead th {\n",
       "        text-align: right;\n",
       "    }\n",
       "</style>\n",
       "<table border=\"1\" class=\"dataframe\">\n",
       "  <thead>\n",
       "    <tr style=\"text-align: right;\">\n",
       "      <th></th>\n",
       "      <th>state</th>\n",
       "      <th>user_in_state</th>\n",
       "    </tr>\n",
       "  </thead>\n",
       "  <tbody>\n",
       "    <tr>\n",
       "      <th>0</th>\n",
       "      <td>Connecticut</td>\n",
       "      <td>29</td>\n",
       "    </tr>\n",
       "    <tr>\n",
       "      <th>1</th>\n",
       "      <td>Hawaii</td>\n",
       "      <td>28</td>\n",
       "    </tr>\n",
       "    <tr>\n",
       "      <th>2</th>\n",
       "      <td>Rhode Island</td>\n",
       "      <td>27</td>\n",
       "    </tr>\n",
       "    <tr>\n",
       "      <th>3</th>\n",
       "      <td>Virginia</td>\n",
       "      <td>26</td>\n",
       "    </tr>\n",
       "    <tr>\n",
       "      <th>4</th>\n",
       "      <td>Ohio</td>\n",
       "      <td>26</td>\n",
       "    </tr>\n",
       "    <tr>\n",
       "      <th>5</th>\n",
       "      <td>Mississippi</td>\n",
       "      <td>26</td>\n",
       "    </tr>\n",
       "    <tr>\n",
       "      <th>6</th>\n",
       "      <td>Alabama</td>\n",
       "      <td>25</td>\n",
       "    </tr>\n",
       "    <tr>\n",
       "      <th>7</th>\n",
       "      <td>Arkansas</td>\n",
       "      <td>24</td>\n",
       "    </tr>\n",
       "    <tr>\n",
       "      <th>8</th>\n",
       "      <td>Utah</td>\n",
       "      <td>23</td>\n",
       "    </tr>\n",
       "    <tr>\n",
       "      <th>9</th>\n",
       "      <td>North Dakota</td>\n",
       "      <td>23</td>\n",
       "    </tr>\n",
       "  </tbody>\n",
       "</table>\n",
       "</div>"
      ],
      "text/plain": [
       "          state  user_in_state\n",
       "0   Connecticut             29\n",
       "1        Hawaii             28\n",
       "2  Rhode Island             27\n",
       "3      Virginia             26\n",
       "4          Ohio             26\n",
       "5   Mississippi             26\n",
       "6       Alabama             25\n",
       "7      Arkansas             24\n",
       "8          Utah             23\n",
       "9  North Dakota             23"
      ]
     },
     "execution_count": 85,
     "metadata": {},
     "output_type": "execute_result"
    }
   ],
   "source": [
    "ps.sqldf(mysql)"
   ]
  },
  {
   "cell_type": "code",
   "execution_count": 86,
   "id": "74dde7bf",
   "metadata": {},
   "outputs": [
    {
     "data": {
      "text/plain": [
       "Index(['id', 'uid', 'password', 'first_name', 'last_name', 'username', 'email',\n",
       "       'avatar', 'gender', 'phone_number', 'social_insurance_number',\n",
       "       'date_of_birth', 'credit_card', 'plan', 'status', 'payment_method',\n",
       "       'term', 'title', 'key_skill', 'city', 'zip_code', 'state', 'country'],\n",
       "      dtype='object')"
      ]
     },
     "execution_count": 86,
     "metadata": {},
     "output_type": "execute_result"
    }
   ],
   "source": [
    "userdf.columns"
   ]
  },
  {
   "cell_type": "code",
   "execution_count": 87,
   "id": "9065ffe6",
   "metadata": {},
   "outputs": [
    {
     "name": "stdout",
     "output_type": "stream",
     "text": [
      "9\n"
     ]
    }
   ],
   "source": [
    "for i in range(1,len(userdf.index)):\n",
    "    similarity=fuzz.ratio(userdf['payment_method'][i-1],userdf['payment_method'][i])\n",
    "    if similarity>50:\n",
    "        print(i)\n",
    "        break"
   ]
  },
  {
   "cell_type": "code",
   "execution_count": 88,
   "id": "0f8b46af",
   "metadata": {},
   "outputs": [
    {
     "data": {
      "text/html": [
       "<div>\n",
       "<style scoped>\n",
       "    .dataframe tbody tr th:only-of-type {\n",
       "        vertical-align: middle;\n",
       "    }\n",
       "\n",
       "    .dataframe tbody tr th {\n",
       "        vertical-align: top;\n",
       "    }\n",
       "\n",
       "    .dataframe thead th {\n",
       "        text-align: right;\n",
       "    }\n",
       "</style>\n",
       "<table border=\"1\" class=\"dataframe\">\n",
       "  <thead>\n",
       "    <tr style=\"text-align: right;\">\n",
       "      <th></th>\n",
       "      <th>id</th>\n",
       "      <th>social_insurance_number</th>\n",
       "    </tr>\n",
       "  </thead>\n",
       "  <tbody>\n",
       "    <tr>\n",
       "      <th>id</th>\n",
       "      <td>1.00000</td>\n",
       "      <td>-0.04918</td>\n",
       "    </tr>\n",
       "    <tr>\n",
       "      <th>social_insurance_number</th>\n",
       "      <td>-0.04918</td>\n",
       "      <td>1.00000</td>\n",
       "    </tr>\n",
       "  </tbody>\n",
       "</table>\n",
       "</div>"
      ],
      "text/plain": [
       "                              id  social_insurance_number\n",
       "id                       1.00000                 -0.04918\n",
       "social_insurance_number -0.04918                  1.00000"
      ]
     },
     "execution_count": 88,
     "metadata": {},
     "output_type": "execute_result"
    }
   ],
   "source": [
    "userdf.corr()"
   ]
  },
  {
   "cell_type": "code",
   "execution_count": 89,
   "id": "443255a7",
   "metadata": {},
   "outputs": [
    {
     "data": {
      "text/plain": [
       "Debit card        99\n",
       "WeChat Pay        90\n",
       "Credit card       88\n",
       "Apple Pay         86\n",
       "Visa checkout     86\n",
       "Money transfer    85\n",
       "Alipay            83\n",
       "Paypal            82\n",
       "Cheque            80\n",
       "Google Pay        80\n",
       "Cash              76\n",
       "Bitcoins          65\n",
       "Name: payment_method, dtype: int64"
      ]
     },
     "execution_count": 89,
     "metadata": {},
     "output_type": "execute_result"
    }
   ],
   "source": [
    "userdf['payment_method'].value_counts()"
   ]
  },
  {
   "cell_type": "code",
   "execution_count": 90,
   "id": "7bc3cb19",
   "metadata": {},
   "outputs": [
    {
     "data": {
      "text/plain": [
       "Genderfluid    147\n",
       "Female         135\n",
       "Male           131\n",
       "Genderqueer    128\n",
       "Non-binary     126\n",
       "Bigender       123\n",
       "Agender        118\n",
       "Polygender      92\n",
       "Name: gender, dtype: int64"
      ]
     },
     "execution_count": 90,
     "metadata": {},
     "output_type": "execute_result"
    }
   ],
   "source": [
    "userdf['gender'].value_counts()"
   ]
  },
  {
   "cell_type": "code",
   "execution_count": 91,
   "id": "4ac64016",
   "metadata": {},
   "outputs": [],
   "source": [
    "cols_to_drop=['id','uid','first_name','last_name','password','email','avatar','social_insurance_number','credit_card','phone_number','city','zip_code','country']\n",
    "userdf_clean=userdf.drop(cols_to_drop,inplace=False,axis=1)"
   ]
  },
  {
   "cell_type": "code",
   "execution_count": 93,
   "id": "759d538f",
   "metadata": {},
   "outputs": [],
   "source": [
    "userdf_clean['date_of_birth']=pd.to_datetime(userdf_clean['date_of_birth'])"
   ]
  },
  {
   "cell_type": "code",
   "execution_count": 94,
   "id": "ee795831",
   "metadata": {},
   "outputs": [
    {
     "data": {
      "text/html": [
       "<div>\n",
       "<style scoped>\n",
       "    .dataframe tbody tr th:only-of-type {\n",
       "        vertical-align: middle;\n",
       "    }\n",
       "\n",
       "    .dataframe tbody tr th {\n",
       "        vertical-align: top;\n",
       "    }\n",
       "\n",
       "    .dataframe thead th {\n",
       "        text-align: right;\n",
       "    }\n",
       "</style>\n",
       "<table border=\"1\" class=\"dataframe\">\n",
       "  <thead>\n",
       "    <tr style=\"text-align: right;\">\n",
       "      <th></th>\n",
       "      <th>username</th>\n",
       "      <th>gender</th>\n",
       "      <th>date_of_birth</th>\n",
       "      <th>plan</th>\n",
       "      <th>status</th>\n",
       "      <th>payment_method</th>\n",
       "      <th>term</th>\n",
       "      <th>title</th>\n",
       "      <th>key_skill</th>\n",
       "      <th>state</th>\n",
       "    </tr>\n",
       "  </thead>\n",
       "  <tbody>\n",
       "    <tr>\n",
       "      <th>0</th>\n",
       "      <td>elijah.hermann</td>\n",
       "      <td>Polygender</td>\n",
       "      <td>1972-09-08</td>\n",
       "      <td>Student</td>\n",
       "      <td>Idle</td>\n",
       "      <td>WeChat Pay</td>\n",
       "      <td>Payment in advance</td>\n",
       "      <td>Administration Assistant</td>\n",
       "      <td>Technical savvy</td>\n",
       "      <td>Kentucky</td>\n",
       "    </tr>\n",
       "    <tr>\n",
       "      <th>1</th>\n",
       "      <td>hoyt.casper</td>\n",
       "      <td>Female</td>\n",
       "      <td>1969-02-02</td>\n",
       "      <td>Professional</td>\n",
       "      <td>Idle</td>\n",
       "      <td>Credit card</td>\n",
       "      <td>Payment in advance</td>\n",
       "      <td>National Producer</td>\n",
       "      <td>Self-motivated</td>\n",
       "      <td>Colorado</td>\n",
       "    </tr>\n",
       "    <tr>\n",
       "      <th>2</th>\n",
       "      <td>alonzo.lehner</td>\n",
       "      <td>Genderqueer</td>\n",
       "      <td>1996-03-13</td>\n",
       "      <td>Business</td>\n",
       "      <td>Active</td>\n",
       "      <td>Google Pay</td>\n",
       "      <td>Annual</td>\n",
       "      <td>Marketing Supervisor</td>\n",
       "      <td>Networking skills</td>\n",
       "      <td>Illinois</td>\n",
       "    </tr>\n",
       "    <tr>\n",
       "      <th>3</th>\n",
       "      <td>lucas.adams</td>\n",
       "      <td>Agender</td>\n",
       "      <td>1965-10-22</td>\n",
       "      <td>Basic</td>\n",
       "      <td>Blocked</td>\n",
       "      <td>WeChat Pay</td>\n",
       "      <td>Payment in advance</td>\n",
       "      <td>Administration Architect</td>\n",
       "      <td>Confidence</td>\n",
       "      <td>Connecticut</td>\n",
       "    </tr>\n",
       "    <tr>\n",
       "      <th>4</th>\n",
       "      <td>marlon.purdy</td>\n",
       "      <td>Female</td>\n",
       "      <td>2003-05-03</td>\n",
       "      <td>Platinum</td>\n",
       "      <td>Idle</td>\n",
       "      <td>Alipay</td>\n",
       "      <td>Full subscription</td>\n",
       "      <td>Sales Administrator</td>\n",
       "      <td>Proactive</td>\n",
       "      <td>South Carolina</td>\n",
       "    </tr>\n",
       "  </tbody>\n",
       "</table>\n",
       "</div>"
      ],
      "text/plain": [
       "         username       gender date_of_birth          plan   status  \\\n",
       "0  elijah.hermann   Polygender    1972-09-08       Student     Idle   \n",
       "1     hoyt.casper       Female    1969-02-02  Professional     Idle   \n",
       "2   alonzo.lehner  Genderqueer    1996-03-13      Business   Active   \n",
       "3     lucas.adams      Agender    1965-10-22         Basic  Blocked   \n",
       "4    marlon.purdy       Female    2003-05-03      Platinum     Idle   \n",
       "\n",
       "  payment_method                term                     title  \\\n",
       "0     WeChat Pay  Payment in advance  Administration Assistant   \n",
       "1    Credit card  Payment in advance         National Producer   \n",
       "2     Google Pay              Annual      Marketing Supervisor   \n",
       "3     WeChat Pay  Payment in advance  Administration Architect   \n",
       "4         Alipay   Full subscription       Sales Administrator   \n",
       "\n",
       "           key_skill           state  \n",
       "0    Technical savvy        Kentucky  \n",
       "1     Self-motivated        Colorado  \n",
       "2  Networking skills        Illinois  \n",
       "3         Confidence     Connecticut  \n",
       "4          Proactive  South Carolina  "
      ]
     },
     "execution_count": 94,
     "metadata": {},
     "output_type": "execute_result"
    }
   ],
   "source": [
    "userdf_clean.head()"
   ]
  },
  {
   "cell_type": "code",
   "execution_count": 102,
   "id": "8b5eef0a",
   "metadata": {},
   "outputs": [],
   "source": [
    "from datetime import datetime\n",
    "\n",
    "userdf_clean['age']=pd.Timestamp.now().normalize()-userdf_clean['date_of_birth']\n"
   ]
  },
  {
   "cell_type": "code",
   "execution_count": 103,
   "id": "78e2bbe5",
   "metadata": {},
   "outputs": [
    {
     "data": {
      "text/plain": [
       "0     18211 days\n",
       "1     19525 days\n",
       "2      9624 days\n",
       "3     20724 days\n",
       "4      7017 days\n",
       "         ...    \n",
       "995   18196 days\n",
       "996   15007 days\n",
       "997    8416 days\n",
       "998   22369 days\n",
       "999   18937 days\n",
       "Name: age, Length: 1000, dtype: timedelta64[ns]"
      ]
     },
     "execution_count": 103,
     "metadata": {},
     "output_type": "execute_result"
    }
   ],
   "source": [
    "userdf_clean['age']"
   ]
  },
  {
   "cell_type": "code",
   "execution_count": null,
   "id": "effe46e8",
   "metadata": {},
   "outputs": [],
   "source": []
  }
 ],
 "metadata": {
  "kernelspec": {
   "display_name": "Python 3",
   "language": "python",
   "name": "python3"
  },
  "language_info": {
   "codemirror_mode": {
    "name": "ipython",
    "version": 3
   },
   "file_extension": ".py",
   "mimetype": "text/x-python",
   "name": "python",
   "nbconvert_exporter": "python",
   "pygments_lexer": "ipython3",
   "version": "3.8.0"
  }
 },
 "nbformat": 4,
 "nbformat_minor": 5
}
